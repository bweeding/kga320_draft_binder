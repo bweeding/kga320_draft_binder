{
 "cells": [
  {
   "cell_type": "markdown",
   "id": "67c7fb5f-c5bd-4c5c-9663-be2f5b12b70b",
   "metadata": {},
   "source": [
    "Hello and welcome to the online platform for KGA320!\n",
    "\n",
    "For many of you this will be your first time using the Python programming language, which is widely used in climate science. We will keep things as simple as possible, and focus on the climate science and data as much as possible. \n",
    "This first workshop will serve as an introduction to how Python works, and enable us to get to grips with our data."
   ]
  },
  {
   "cell_type": "code",
   "execution_count": 4,
   "id": "14bf4054-2914-452b-a084-7dc815a569aa",
   "metadata": {},
   "outputs": [
    {
     "data": {
      "text/plain": [
       "414.5"
      ]
     },
     "execution_count": 4,
     "metadata": {},
     "output_type": "execute_result"
    }
   ],
   "source": [
    "# lines that start with a \"#\" symbol are comments, and are used to describe code. They don't have any impact on what the code does.\n",
    "\n",
    "# the blocks of space that code and comments are in are called \"cells\". To make the code in a cell run, you press \"shift+enter\"\n",
    "\n",
    "342+72.5"
   ]
  },
  {
   "cell_type": "code",
   "execution_count": null,
   "id": "8188ffa8-752e-4bb5-bccb-69a5cb79cdf7",
   "metadata": {},
   "outputs": [],
   "source": [
    "342*47"
   ]
  },
  {
   "cell_type": "code",
   "execution_count": null,
   "id": "0693d504-f050-477f-9a87-c5bc4e257468",
   "metadata": {},
   "outputs": [],
   "source": [
    "# the code below imports a range of \"packages\" of code (if you've used other languages like R you'll be familiar with this).\n",
    "# you can think of a package like a tool that can do a range of related things\n",
    "\n",
    "import matplotlib.pyplot as plt\n",
    "import os\n",
    "import glob\n",
    "import xarray as xr\n",
    "import numpy as np\n",
    "import matplotlib\n",
    "import pandas as pd\n",
    "import statsmodels.api as sm"
   ]
  },
  {
   "cell_type": "code",
   "execution_count": null,
   "id": "63ea8eae-d339-41e4-ad67-77d37091b2fb",
   "metadata": {},
   "outputs": [],
   "source": []
  }
 ],
 "metadata": {
  "kernelspec": {
   "display_name": "xclim",
   "language": "python",
   "name": "xclim"
  },
  "language_info": {
   "codemirror_mode": {
    "name": "ipython",
    "version": 3
   },
   "file_extension": ".py",
   "mimetype": "text/x-python",
   "name": "python",
   "nbconvert_exporter": "python",
   "pygments_lexer": "ipython3",
   "version": "3.12.2"
  }
 },
 "nbformat": 4,
 "nbformat_minor": 5
}
